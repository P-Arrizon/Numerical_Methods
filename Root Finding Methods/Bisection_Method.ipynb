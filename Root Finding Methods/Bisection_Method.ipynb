{
 "cells": [
  {
   "attachments": {},
   "cell_type": "markdown",
   "metadata": {},
   "source": [
    "# The Bisection Method"
   ]
  },
  {
   "attachments": {},
   "cell_type": "markdown",
   "metadata": {},
   "source": [
    "The bisection method is a numerical algorithm used to find the roots of a continuous function. It works by repeatedly dividing an interval in half and then selecting the subinterval in which the function changes sign, and then dividing that subinterval in half again. This process is repeated until the interval becomes small enough to approximate the root of the function with a desired level of accuracy. The bisection method is guaranteed to converge to a root of the function, but it may converge slowly for some functions. It is a relatively simple and reliable method for finding roots, but it may require many iterations to achieve a desired level of accuracy."
   ]
  },
  {
   "attachments": {},
   "cell_type": "markdown",
   "metadata": {},
   "source": [
    "Given a continuous function $f(x)$ and an interval $[a,b]$ such that $f(a)$ and $f(b)$ have opposite signs, the bisection method generates a sequence of approximations $p_n$ of a root of $f(x)$ as follows:\n",
    "\n",
    "\\begin{align*}\n",
    "p_n &= \\frac{a_n + b_n}{2} \\\n",
    "\\\n",
    "\\text{if } f(a_n) \\cdot f(p_n) &< 0 \\\n",
    "\\quad b_{n+1} &= p_n \\\n",
    "\\text{else } \\\n",
    "\\quad a_{n+1} &= p_n\n",
    "\\end{align*}\n",
    "\n",
    "The process is repeated until an approximation of the root with the desired accuracy is achieved. Here, $a_n$ and $b_n$ represent the endpoints of the interval at the $n$th iteration of the method, and $p_n$ is the midpoint of the interval. The condition $f(a_n) \\cdot f(p_n) < 0$ checks if the root lies in the interval $[a_n, p_n]$, and if it does, the endpoint $b_n$ is updated to $p_n$, otherwise the endpoint $a_n$ is updated to $p_n$"
   ]
  },
  {
   "cell_type": "code",
   "execution_count": null,
   "metadata": {},
   "outputs": [],
   "source": [
    "import matplotlib.pyplot as plt\n",
    "import numpy as np\n",
    "\n",
    "def bisection(f, a, b, tol=1e-6, max_iter=100):\n",
    "    \"\"\"\n",
    "    Implements the bisection method to find the root of a function f\n",
    "    within the interval [a,b].\n",
    "\n",
    "    Parameters:\n",
    "    f (function): the function to find the root of\n",
    "    a (float): the left endpoint of the interval\n",
    "    b (float): the right endpoint of the interval\n",
    "    tol (float): the tolerance level for the root\n",
    "    max_iter (int): the maximum number of iterations to perform\n",
    "\n",
    "    Returns:\n",
    "    x (float): the estimated root of f within the interval [a,b]\n",
    "    \"\"\"\n",
    "\n",
    "    # Ensure that the function has different signs at a and b\n",
    "    if np.sign(f(a)) == np.sign(f(b)):\n",
    "        raise ValueError(\"f(a) and f(b) must have opposite signs\")\n",
    "\n",
    "    # Initialize the midpoint, iteration counter, and lists for plotting\n",
    "    x = (a + b) / 2\n",
    "    i = 0\n",
    "    x_vals = [a, b]\n",
    "    y_vals = [f(a), f(b)]\n",
    "\n",
    "    # Loop until the tolerance is met or the maximum number of iterations is reached\n",
    "    while abs(f(x)) > tol and i < max_iter:\n",
    "        # Determine which half of the interval to keep\n",
    "        if np.sign(f(x)) == np.sign(f(a)):\n",
    "            a = x\n",
    "        else:\n",
    "            b = x\n",
    "\n",
    "        # Calculate the new midpoint and update the plotting lists\n",
    "        x = (a + b) / 2\n",
    "        x_vals.append(x)\n",
    "        y_vals.append(f(x))\n",
    "\n",
    "        # Increment the iteration counter\n",
    "        i += 1\n",
    "\n",
    "    # Plot the function and the bisection points\n",
    "    x_range = np.linspace(a, b, 100)\n",
    "    plt.scatter(x_range, f(x_range))\n",
    "    plt.plot(x_vals, y_vals, '--ro')\n",
    "    plt.xlabel('x')\n",
    "    plt.ylabel('y')\n",
    "    plt.title('Bisection Method')\n",
    "\n",
    "    # Return the estimated root\n",
    "    return x"
   ]
  },
  {
   "cell_type": "code",
   "execution_count": 1,
   "metadata": {},
   "outputs": [
    {
     "ename": "NameError",
     "evalue": "name 'bisection' is not defined",
     "output_type": "error",
     "traceback": [
      "\u001b[0;31m---------------------------------------------------------------------------\u001b[0m",
      "\u001b[0;31mNameError\u001b[0m                                 Traceback (most recent call last)",
      "\u001b[1;32m/Users/luffy/Backup_Gdrive/GitHub/Numerical_Methods/Bisection_Method.ipynb Cell 5'\u001b[0m in \u001b[0;36m<cell line: 7>\u001b[0;34m()\u001b[0m\n\u001b[1;32m      <a href='vscode-notebook-cell:/Users/luffy/Backup_Gdrive/GitHub/Numerical_Methods/Bisection_Method.ipynb#ch0000004?line=4'>5</a>\u001b[0m \u001b[39m# Find the root using the bisection method\u001b[39;00m\n\u001b[1;32m      <a href='vscode-notebook-cell:/Users/luffy/Backup_Gdrive/GitHub/Numerical_Methods/Bisection_Method.ipynb#ch0000004?line=5'>6</a>\u001b[0m a, b \u001b[39m=\u001b[39m \u001b[39m-\u001b[39m\u001b[39m10\u001b[39m, \u001b[39m10\u001b[39m\n\u001b[0;32m----> <a href='vscode-notebook-cell:/Users/luffy/Backup_Gdrive/GitHub/Numerical_Methods/Bisection_Method.ipynb#ch0000004?line=6'>7</a>\u001b[0m root \u001b[39m=\u001b[39m bisection(f, a, b)\n\u001b[1;32m      <a href='vscode-notebook-cell:/Users/luffy/Backup_Gdrive/GitHub/Numerical_Methods/Bisection_Method.ipynb#ch0000004?line=8'>9</a>\u001b[0m \u001b[39m# Print the result\u001b[39;00m\n\u001b[1;32m     <a href='vscode-notebook-cell:/Users/luffy/Backup_Gdrive/GitHub/Numerical_Methods/Bisection_Method.ipynb#ch0000004?line=9'>10</a>\u001b[0m \u001b[39mprint\u001b[39m(\u001b[39mf\u001b[39m\u001b[39m\"\u001b[39m\u001b[39mThe root of f(x) within the interval [\u001b[39m\u001b[39m{\u001b[39;00ma\u001b[39m}\u001b[39;00m\u001b[39m, \u001b[39m\u001b[39m{\u001b[39;00mb\u001b[39m}\u001b[39;00m\u001b[39m] is approximately \u001b[39m\u001b[39m{\u001b[39;00mroot\u001b[39m:\u001b[39;00m\u001b[39m.6f\u001b[39m\u001b[39m}\u001b[39;00m\u001b[39m\"\u001b[39m)\n",
      "\u001b[0;31mNameError\u001b[0m: name 'bisection' is not defined"
     ]
    }
   ],
   "source": [
    "# Define the function to find the root of\n",
    "def f(x):\n",
    "    return x**3 - 2*x - 5\n",
    "\n",
    "# Find the root using the bisection method\n",
    "a, b = -10, 10\n",
    "root = bisection(f, a, b)\n",
    "\n",
    "# Print the result\n",
    "print(f\"The root of f(x) within the interval [{a}, {b}] is approximately {root:.6f}\")\n",
    "\n",
    "# Show the plot\n",
    "plt.show()"
   ]
  },
  {
   "cell_type": "code",
   "execution_count": 2,
   "metadata": {},
   "outputs": [],
   "source": [
    "import numpy as np\n",
    "import matplotlib.pyplot as plt\n",
    "\n",
    "# Define the function we want to find roots for\n",
    "def f(x):\n",
    "    return x**3 - x**2 + 2\n",
    "\n",
    "# Define the bisection method\n",
    "def bisection(a, b, tol):\n",
    "    # Set an initial estimate of the root\n",
    "    c = (a + b) / 2\n",
    "    # Loop until convergence\n",
    "    while abs(f(c)) > tol:\n",
    "        # Check whether the root is in the left or right interval\n",
    "        if f(a) * f(c) < 0:\n",
    "            b = c\n",
    "        else:\n",
    "            a = c\n",
    "        # Calculate a new estimate of the root\n",
    "        c = (a + b) / 2\n",
    "    # Return the final estimate of the root\n",
    "    return c\n",
    "\n",
    "# Set the initial values for a, b, and tol\n",
    "a = 0\n",
    "b = 2\n",
    "tol = 1e-6\n",
    "\n",
    "# Create arrays to store the iteration number and error\n",
    "iter_array = []\n",
    "error_array = []\n",
    "\n",
    "# Loop through a range of iterations to find the rate of convergence\n",
    "for i in range(1, 101):\n",
    "    # Find the root using the bisection method\n",
    "    root = bisection(a, b, tol)\n",
    "    # Calculate the error and append to the error array\n",
    "    error = abs(root - 1)\n",
    "    error_array.append(error)\n",
    "    # Append the iteration number to the iteration array\n",
    "    iter_array.append(i)\n",
    "    # Update the values for a and b to refine the root estimate\n",
    "    if f(a) * f(root) < 0:\n",
    "        b = root\n",
    "    else:\n",
    "        a = root\n",
    "\n",
    "# Plot the rate of convergence\n",
    "plt.plot(iter_array, np.log(error_array))\n",
    "plt.xlabel('Iteration number')\n",
    "plt.ylabel('Log error')\n",
    "plt.title('Rate of convergence for bisection method')\n",
    "plt.show()"
   ]
  },
  {
   "cell_type": "code",
   "execution_count": null,
   "metadata": {},
   "outputs": [],
   "source": []
  }
 ],
 "metadata": {
  "kernelspec": {
   "display_name": "Python 3.9.12 ('base')",
   "language": "python",
   "name": "python3"
  },
  "language_info": {
   "codemirror_mode": {
    "name": "ipython",
    "version": 3
   },
   "file_extension": ".py",
   "mimetype": "text/x-python",
   "name": "python",
   "nbconvert_exporter": "python",
   "pygments_lexer": "ipython3",
   "version": "3.9.12"
  },
  "orig_nbformat": 4,
  "vscode": {
   "interpreter": {
    "hash": "c419a89fa0932ddf1e34fe75cb98db025486eadbb32471ad14c0af12315f3e63"
   }
  }
 },
 "nbformat": 4,
 "nbformat_minor": 2
}
