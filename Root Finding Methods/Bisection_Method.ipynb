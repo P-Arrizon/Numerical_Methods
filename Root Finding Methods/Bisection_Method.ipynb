{
 "cells": [
  {
   "attachments": {},
   "cell_type": "markdown",
   "metadata": {},
   "source": [
    "# The Bisection Method"
   ]
  },
  {
   "attachments": {},
   "cell_type": "markdown",
   "metadata": {},
   "source": [
    "The bisection method is a numerical algorithm used to find the roots of a continuous function. It works by repeatedly dividing an interval in half and then selecting the subinterval in which the function changes sign, and then dividing that subinterval in half again. This process is repeated until the interval becomes small enough to approximate the root of the function with a desired level of accuracy. The bisection method is guaranteed to converge to a root of the function, but it may converge slowly for some functions. It is a relatively simple and reliable method for finding roots, but it may require many iterations to achieve a desired level of accuracy."
   ]
  },
  {
   "attachments": {},
   "cell_type": "markdown",
   "metadata": {},
   "source": [
    "Given a continuous function $f(x)$ and an interval $[a,b]$ such that $f(a)$ and $f(b)$ have opposite signs, the bisection method generates a sequence of approximations $p_n$ of a root of $f(x)$ as follows:\n",
    "\n",
    "\\begin{align*}\n",
    "p_n &= \\frac{a_n + b_n}{2} \\\n",
    "\\\n",
    "\\text{if } f(a_n) \\cdot f(p_n) &< 0 \\\n",
    "\\quad b_{n+1} &= p_n \\\n",
    "\\text{else } \\\n",
    "\\quad a_{n+1} &= p_n\n",
    "\\end{align*}\n",
    "\n",
    "The process is repeated until an approximation of the root with the desired accuracy is achieved. Here, $a_n$ and $b_n$ represent the endpoints of the interval at the $n$th iteration of the method, and $p_n$ is the midpoint of the interval. The condition $f(a_n) \\cdot f(p_n) < 0$ checks if the root lies in the interval $[a_n, p_n]$, and if it does, the endpoint $b_n$ is updated to $p_n$, otherwise the endpoint $a_n$ is updated to $p_n$"
   ]
  },
  {
   "cell_type": "code",
   "execution_count": 1,
   "metadata": {},
   "outputs": [],
   "source": [
    "import matplotlib.pyplot as plt\n",
    "import numpy as np\n",
    "\n",
    "def bisection(f, a, b, tol=1e-6, max_iter=100):\n",
    "    \"\"\"\n",
    "    Implements the bisection method to find the root of a function f\n",
    "    within the interval [a,b].\n",
    "\n",
    "    Parameters:\n",
    "    f (function): the function to find the root of\n",
    "    a (float): the left endpoint of the interval\n",
    "    b (float): the right endpoint of the interval\n",
    "    tol (float): the tolerance level for the root\n",
    "    max_iter (int): the maximum number of iterations to perform\n",
    "\n",
    "    Returns:\n",
    "    x (float): the estimated root of f within the interval [a,b]\n",
    "    \"\"\"\n",
    "\n",
    "    # Ensure that the function has different signs at a and b\n",
    "    if np.sign(f(a)) == np.sign(f(b)):\n",
    "        raise ValueError(\"f(a) and f(b) must have opposite signs\")\n",
    "\n",
    "    # Initialize the midpoint, iteration counter, and lists for plotting\n",
    "    x = (a + b) / 2\n",
    "    i = 0\n",
    "    x_vals = [a, b]\n",
    "    y_vals = [f(a), f(b)]\n",
    "\n",
    "    # Loop until the tolerance is met or the maximum number of iterations is reached\n",
    "    while abs(f(x)) > tol and i < max_iter:\n",
    "        # Determine which half of the interval to keep\n",
    "        if np.sign(f(x)) == np.sign(f(a)):\n",
    "            a = x\n",
    "        else:\n",
    "            b = x\n",
    "\n",
    "        # Calculate the new midpoint and update the plotting lists\n",
    "        x = (a + b) / 2\n",
    "        x_vals.append(x)\n",
    "        y_vals.append(f(x))\n",
    "\n",
    "        # Increment the iteration counter\n",
    "        i += 1\n",
    "\n",
    "    # Plot the function and the bisection points\n",
    "    x_range = np.linspace(a, b, 100)\n",
    "    plt.scatter(x_range, f(x_range))\n",
    "    plt.plot(x_vals, y_vals, '--ro')\n",
    "    plt.xlabel('x')\n",
    "    plt.ylabel('y')\n",
    "    plt.title('Bisection Method')\n",
    "\n",
    "    # Return the estimated root\n",
    "    return x"
   ]
  },
  {
   "cell_type": "code",
   "execution_count": 2,
   "metadata": {},
   "outputs": [
    {
     "name": "stdout",
     "output_type": "stream",
     "text": [
      "The root of f(x) within the interval [-10, 10] is approximately 2.094551\n"
     ]
    },
    {
     "data": {
      "image/png": "[encoded data removed]",
      "text/plain": [
       "<Figure size 432x288 with 1 Axes>"
      ]
     },
     "metadata": {
      "needs_background": "light"
     },
     "output_type": "display_data"
    }
   ],
   "source": [
    "# Define the function to find the root of\n",
    "def f(x):\n",
    "    return x**3 - 2*x - 5\n",
    "\n",
    "# Find the root using the bisection method\n",
    "a, b = -10, 10\n",
    "root = bisection(f, a, b)\n",
    "\n",
    "# Print the result\n",
    "print(f\"The root of f(x) within the interval [{a}, {b}] is approximately {root:.6f}\")\n",
    "\n",
    "# Show the plot\n",
    "plt.show()"
   ]
  }
 ],
 "metadata": {
  "kernelspec": {
   "display_name": "Python 3.9.12 ('base')",
   "language": "python",
   "name": "python3"
  },
  "language_info": {
   "codemirror_mode": {
    "name": "ipython",
    "version": 3
   },
   "file_extension": ".py",
   "mimetype": "text/x-python",
   "name": "python",
   "nbconvert_exporter": "python",
   "pygments_lexer": "ipython3",
   "version": "3.9.12"
  },
  "orig_nbformat": 4,
  "vscode": {
   "interpreter": {
    "hash": "c419a89fa0932ddf1e34fe75cb98db025486eadbb32471ad14c0af12315f3e63"
   }
  }
 },
 "nbformat": 4,
 "nbformat_minor": 2
}
