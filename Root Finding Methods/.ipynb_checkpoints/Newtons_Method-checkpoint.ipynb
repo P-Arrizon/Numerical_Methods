{
 "cells": [
  {
   "cell_type": "code",
   "execution_count": 1,
   "id": "baebb593-8d53-472b-9b25-7c5d95a5d038",
   "metadata": {},
   "outputs": [
    {
     "name": "stdout",
     "output_type": "stream",
     "text": [
      "test"
     ]
    }
   ],
   "source": [
    "print(\"test\")"
   ]
  },
  {
   "cell_type": "code",
   "execution_count": null,
   "id": "a020a3dc-cdd7-4b7e-85f4-ce48805b0b71",
   "metadata": {},
   "outputs": [],
   "source": []
  }
 ],
 "metadata": {
  "kernelspec": {
   "display_name": "Julia 1.7.1",
   "language": "julia",
   "name": "julia-1.7"
  },
  "language_info": {
   "file_extension": ".jl",
   "mimetype": "application/julia",
   "name": "julia",
   "version": "1.7.1"
  }
 },
 "nbformat": 4,
 "nbformat_minor": 5
}
