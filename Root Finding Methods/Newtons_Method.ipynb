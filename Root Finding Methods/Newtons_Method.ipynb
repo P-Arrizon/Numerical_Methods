{
 "cells": [
  {
   "attachments": {},
   "cell_type": "markdown",
   "metadata": {},
   "source": [
    "# Newton's Method"
   ]
  },
  {
   "attachments": {},
   "cell_type": "markdown",
   "metadata": {},
   "source": [
    "Newton's method, also known as the Newton-Raphson method, is a powerful numerical algorithm used for finding the roots or zeroes of a function. The method is named after Sir Isaac Newton and Joseph Raphson, who independently developed it in the 17th century.\n",
    "\n",
    "The basic idea behind Newton's method is to iteratively refine an initial estimate of the root of a function until a desired level of accuracy is achieved. Given an initial guess x0, the method constructs a sequence of estimates x1, x2, x3, ..., by using the following iterative formula:\n",
    "\n",
    "xn+1 = xn - f(xn) / f'(xn)\n",
    "\n",
    "where f(x) is the function whose root we are trying to find, and f'(x) is its derivative. The formula says that the next estimate, xn+1, is obtained by subtracting the ratio of the function value and its derivative at xn from xn.\n",
    "\n",
    "Geometrically, Newton's method can be interpreted as finding the intersection of the x-axis with the tangent line to the function at the current estimate. At each iteration, the tangent line provides a better approximation of the function near the current estimate, and the intersection with the x-axis gives a new, improved estimate.\n",
    "\n",
    "The convergence of Newton's method is usually very fast, typically quadratic, meaning that the number of correct digits approximately doubles with each iteration. However, the method may not always converge, and may converge to a wrong root if the initial guess is not sufficiently close to the desired root.\n"
   ]
  },
  {
   "attachments": {},
   "cell_type": "markdown",
   "metadata": {},
   "source": [
    "Given a function $f(x)$ and an initial guess $x_0$, Newton's method iteratively refines the estimate of the root of the function by using the formula:\n",
    "\n",
    "$$x_{n+1} = x_n - \\frac{f(x_n)}{f'(x_n)}$$\n",
    "\n",
    "where $x_n$ is the current estimate of the root, $f'(x_n)$ is the derivative of the function evaluated at $x_n$, and $x_{n+1}$ is the next estimate of the root. The method continues until a desired level of accuracy is achieved or a maximum number of iterations is reached."
   ]
  },
  {
   "cell_type": "code",
   "execution_count": 2,
   "metadata": {},
   "outputs": [
    {
     "data": {
      "image/png": "[encoded data removed]",
      "text/plain": [
       "<Figure size 432x288 with 1 Axes>"
      ]
     },
     "metadata": {
      "needs_background": "light"
     },
     "output_type": "display_data"
    }
   ],
   "source": [
    "import matplotlib.pyplot as plt\n",
    "import numpy as np\n",
    "\n",
    "# Define the function\n",
    "def f(x):\n",
    "    return x**3\n",
    "\n",
    "#define its derivative \n",
    "def fprime(x):\n",
    "    return 3*x**2 \n",
    "\n",
    "# Set the parameters\n",
    "x0 = 1.5\n",
    "max_iters = 20\n",
    "\n",
    "# Initialize the sequence and add the initial guess\n",
    "x = [x0]\n",
    "y = [f(x0)]\n",
    "\n",
    "# Iterate using Newton's method\n",
    "for i in range(max_iters):\n",
    "    x.append(x[-1] - f(x[-1]) / fprime(x[-1]))\n",
    "    y.append(f(x[-1]))\n",
    "\n",
    "# Plot the function and the iterative sequence\n",
    "x_vals = np.linspace(-2, 2, 200)\n",
    "y_vals = f(x_vals)\n",
    "plt.plot(x_vals, y_vals, 'b-', label='f(x)')\n",
    "plt.plot(x, y, 'go-', label='sequence')\n",
    "plt.xlabel('x')\n",
    "plt.ylabel('y')\n",
    "plt.title('Newtons Method')\n",
    "plt.legend()\n",
    "plt.grid()\n",
    "plt.show()\n"
   ]
  },
  {
   "cell_type": "code",
   "execution_count": null,
   "metadata": {},
   "outputs": [],
   "source": []
  }
 ],
 "metadata": {
  "kernelspec": {
   "display_name": "Python 3.9.12 ('base')",
   "language": "python",
   "name": "python3"
  },
  "language_info": {
   "codemirror_mode": {
    "name": "ipython",
    "version": 3
   },
   "file_extension": ".py",
   "mimetype": "text/x-python",
   "name": "python",
   "nbconvert_exporter": "python",
   "pygments_lexer": "ipython3",
   "version": "3.9.12"
  },
  "orig_nbformat": 4,
  "vscode": {
   "interpreter": {
    "hash": "c419a89fa0932ddf1e34fe75cb98db025486eadbb32471ad14c0af12315f3e63"
   }
  }
 },
 "nbformat": 4,
 "nbformat_minor": 2
}
