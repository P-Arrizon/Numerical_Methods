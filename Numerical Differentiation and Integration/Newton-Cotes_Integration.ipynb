{
 "cells": [
  {
   "cell_type": "markdown",
   "metadata": {},
   "source": [
    "# NUMERICAL INTEGRATION\n",
    "#### Pedro Arrizon"
   ]
  },
  {
   "cell_type": "markdown",
   "metadata": {},
   "source": [
    "##  1.) **Trapezoid Rule**"
   ]
  },
  {
   "cell_type": "markdown",
   "metadata": {},
   "source": [
    "Trapezoid Rule is one of the simplest applications of an interpolation based integration. It is shown here:\n",
    "##### **TRAPEZOID RULE** "
   ]
  },
  {
   "cell_type": "markdown",
   "metadata": {},
   "source": [
    "(5.21)\n",
    "\n",
    "$ \\int_{x_0}^{x_1} f(x) \\,dx = \\frac{h}{2}(y_0 + y_1) - \\frac{h ^3}{12} f''(c)$\n",
    "\n",
    "*where $h = x_1 - x_0$*\n"
   ]
  },
  {
   "cell_type": "markdown",
   "metadata": {},
   "source": [
    "Like in the finite point differences we can take the last term as an error term. "
   ]
  },
  {
   "cell_type": "code",
   "execution_count": 31,
   "metadata": {},
   "outputs": [
    {
     "name": "stdout",
     "output_type": "stream",
     "text": [
      "The integral f(x) on the interval [ 1 , 2 ] is :  0.34657359027997264 [trapezoid rule approximation]\n"
     ]
    }
   ],
   "source": [
    "import  numpy as np\n",
    "\n",
    "def f(x):\n",
    "\n",
    "    '''\n",
    "    We want to define our function f(x) as a python function to allow more flexibility in options\n",
    "    '''\n",
    "    func = np.log(x)\n",
    "\n",
    "    return func\n",
    "\n",
    "def trapezoid_rule(a,b):\n",
    "    '''\n",
    "    Here we are going to approximate the integral of f(x) from the interval [a,b] using the trapezoid trapezoid_rule\n",
    "    Inputs:\n",
    "\n",
    "    a , b : \n",
    "        Interval [a,b]\n",
    "\n",
    "    Returns:\n",
    "        an approximation of the integral f(x)\n",
    "    '''\n",
    "\n",
    "    h = b - a\n",
    "    y0 = f(a)\n",
    "    y1 = f(b)\n",
    "\n",
    "    T = h * (y0 + y1) /2  # trapezoid rule\n",
    "\n",
    "\n",
    "    print(\"The integral f(x) on the interval [\",a,',',b,\"] is : \", T, \"[trapezoid rule approximation]\")\n",
    "\n",
    "trapezoid_rule(1,2)\n",
    "\n",
    "    "
   ]
  },
  {
   "cell_type": "markdown",
   "metadata": {},
   "source": [
    "##  2.) **Simpson's Rule**\n",
    "\n",
    "Simpsons Rule is the same as te trapezoid rule but instead of a degree 1 interpolation of the function we now use a parabola. We use a Lagrange interpolation to get a degree 2 polynomial which when simplified gives us the following:\n",
    "##### **SIMPSONS RULE** \n"
   ]
  },
  {
   "cell_type": "markdown",
   "metadata": {},
   "source": [
    "(5.22)\n",
    "\n",
    "$ \\int_{x_0}^{x_2} f(x) \\,dx = \\frac{h}{3}(y_0 + 4y_1 + y_2) - \\frac{h ^5}{90} f^{iv}(c)$\n",
    "\n",
    "*where $h = x_1 - x_0 = x_2 - x_1$*\n",
    "\n"
   ]
  },
  {
   "cell_type": "code",
   "execution_count": 32,
   "metadata": {},
   "outputs": [
    {
     "name": "stdout",
     "output_type": "stream",
     "text": [
      "The integral f(x) on the interval [ 1 , 2 ] is :  0.3858346021654338 [simpsons rule approximation] \n",
      "The integral f(x) on the interval [ 1 , 2 ] is :  0.34657359027997264 [trapezoid rule approximation]\n"
     ]
    }
   ],
   "source": [
    "import  numpy as np\n",
    "\n",
    "def f(x):\n",
    "\n",
    "    '''\n",
    "    We want to define our function f(x) as a python function to allow more flexibility in options\n",
    "    '''\n",
    "    func = np.log(x)\n",
    "\n",
    "    return func\n",
    "\n",
    "def simpsons_rule(a,b):\n",
    "    '''\n",
    "    Here we are going to approximate the integral of f(x) from the interval [a,b] using the trapezoid trapezoid_rule\n",
    "    Inputs:\n",
    "\n",
    "    a , b : \n",
    "        Interval [a,b]\n",
    "\n",
    "    Returns:\n",
    "        an approximation of the integral f(x)\n",
    "    '''\n",
    "\n",
    "    h = (b - a)/2\n",
    "    y0 = f(a)\n",
    "    y1 = f(a + h)\n",
    "    y2 = f(b)\n",
    "\n",
    "    T = h * (y0 + 4*y1 + y2) /3  # trapezoid rule\n",
    "\n",
    "\n",
    "    print(\"The integral f(x) on the interval [\",a,',',b,\"] is : \", T, \"[simpsons rule approximation] \")\n",
    "\n",
    "simpsons_rule(1,2)\n",
    "trapezoid_rule(1,2)\n",
    "\n",
    "    "
   ]
  },
  {
   "cell_type": "markdown",
   "metadata": {},
   "source": [
    "These rules are examples of a \"closed\" Newton-Cotes formula since they involve the evaluation at the endpoints of the integrand. "
   ]
  },
  {
   "cell_type": "markdown",
   "metadata": {},
   "source": []
  }
 ],
 "metadata": {
  "interpreter": {
   "hash": "b3ba2566441a7c06988d0923437866b63cedc61552a5af99d1f4fb67d367b25f"
  },
  "kernelspec": {
   "display_name": "Python 3.9.7 ('base')",
   "language": "python",
   "name": "python3"
  },
  "language_info": {
   "codemirror_mode": {
    "name": "ipython",
    "version": 3
   },
   "file_extension": ".py",
   "mimetype": "text/x-python",
   "name": "python",
   "nbconvert_exporter": "python",
   "pygments_lexer": "ipython3",
   "version": "3.9.7"
  },
  "orig_nbformat": 4
 },
 "nbformat": 4,
 "nbformat_minor": 2
}
