{
 "cells": [
  {
   "cell_type": "markdown",
   "metadata": {},
   "source": [
    "# NUMERICAL DIFFERENTIATION \n",
    "#### Pedro Arrizon"
   ]
  },
  {
   "cell_type": "markdown",
   "metadata": {},
   "source": [
    "##  1.) **Finite Differences**"
   ]
  },
  {
   "cell_type": "markdown",
   "metadata": {},
   "source": [
    "The definition of a derivative given $f(x)$ is:                                                            "
   ]
  },
  {
   "cell_type": "markdown",
   "metadata": {},
   "source": [
    "(5.1)\n",
    "$\n",
    "f'(x) = \\lim_{h \\to 0} \\frac{f(x+h) - f(x)}{h} \\\\~\\\\ \n",
    "$"
   ]
  },
  {
   "cell_type": "markdown",
   "metadata": {},
   "source": [
    "If we were to implement **Taylor's Theorem** to this definition we are able to get this as well:"
   ]
  },
  {
   "cell_type": "markdown",
   "metadata": {},
   "source": [
    "##### **TWO-POINT FORWARD DIFFERENCE FORMULA** "
   ]
  },
  {
   "cell_type": "markdown",
   "metadata": {},
   "source": [
    "(5.2)\n",
    "$\n",
    "f'(x) =\\frac{f(x+h) - f(x)}{h} - \\frac{h}{2}f''(c)\\\\~\\\\\n",
    "$\n",
    "\n",
    "*where c is between x and x + h* $\\\\~\\\\$\n",
    "*and f(x) is twice continuously differentiable.*"
   ]
  },
  {
   "cell_type": "markdown",
   "metadata": {},
   "source": [
    "\n",
    "For a finite calculation it is impossible to take the limit in equation 5.1 but if we examine equation (5.2) we can see that if we approximate h to be really small then:"
   ]
  },
  {
   "cell_type": "markdown",
   "metadata": {},
   "source": [
    "(5.3)\n",
    "$\n",
    "f'(x) \\approx \\frac{f(x+h) - f(x)}{h} \\\\~\\\\ \n",
    "$"
   ]
  },
  {
   "cell_type": "markdown",
   "metadata": {},
   "source": [
    "We then are able to treat the last term in equation (5.2) as an error term. The Two point forward difference formula is a first-order approximation method for getting the first derivative. "
   ]
  },
  {
   "cell_type": "markdown",
   "metadata": {},
   "source": [
    "##### **THREE-POINT CENTERED DIFFERENCE FORMULA** \n",
    "\n",
    "(5.4)\n",
    "$\n",
    "f'(x) =\\frac{f(x+h) - f(x-h)}{2h} - \\frac{h^2}{6}f'''(c)\\\\~\\\\\n",
    "$\n",
    "\n",
    "*where $(x-h) < c < (x+h)$*\n"
   ]
  },
  {
   "cell_type": "markdown",
   "metadata": {},
   "source": [
    "##### **THREE-POINT CENTERED DIFFERENCE FORMULA FOR THE SECOND DERIVATIVE** \n",
    "\n",
    "(5.5)\n",
    "$\n",
    "f''(x) =\\frac{f(x-h) - 2f(x) + f(x+h)}{h^2} - \\frac{h^2}{12}f^{(iv)}(c)\\\\~\\\\\n",
    "$\n",
    "\n",
    "*where $(x-h) < c < (x+h)$*"
   ]
  },
  {
   "cell_type": "markdown",
   "metadata": {},
   "source": [
    "##  2.) **Rounding Error**"
   ]
  },
  {
   "cell_type": "markdown",
   "metadata": {},
   "source": [
    "One of the biggest issues when approximating derivatives is that we are subtracting nearly equal numbers. \n",
    "We can look at the example below:"
   ]
  },
  {
   "cell_type": "code",
   "execution_count": 38,
   "metadata": {},
   "outputs": [
    {
     "data": {
      "text/html": [
       "<div>\n",
       "<style scoped>\n",
       "    .dataframe tbody tr th:only-of-type {\n",
       "        vertical-align: middle;\n",
       "    }\n",
       "\n",
       "    .dataframe tbody tr th {\n",
       "        vertical-align: top;\n",
       "    }\n",
       "\n",
       "    .dataframe thead th {\n",
       "        text-align: right;\n",
       "    }\n",
       "</style>\n",
       "<table border=\"1\" class=\"dataframe\">\n",
       "  <thead>\n",
       "    <tr style=\"text-align: right;\">\n",
       "      <th></th>\n",
       "      <th>h</th>\n",
       "      <th>f'(x)</th>\n",
       "      <th>Error</th>\n",
       "    </tr>\n",
       "  </thead>\n",
       "  <tbody>\n",
       "    <tr>\n",
       "      <th>0</th>\n",
       "      <td>1.0e-01</td>\n",
       "      <td>-0.250627</td>\n",
       "      <td>-2.96890839487508539918e+00</td>\n",
       "    </tr>\n",
       "    <tr>\n",
       "      <th>1</th>\n",
       "      <td>1.0e-02</td>\n",
       "      <td>-0.250006</td>\n",
       "      <td>-2.96828807861529897494e+00</td>\n",
       "    </tr>\n",
       "    <tr>\n",
       "      <th>2</th>\n",
       "      <td>1.0e-03</td>\n",
       "      <td>-0.250000</td>\n",
       "      <td>-2.96828189095906047612e+00</td>\n",
       "    </tr>\n",
       "    <tr>\n",
       "      <th>3</th>\n",
       "      <td>1.0e-04</td>\n",
       "      <td>-0.250000</td>\n",
       "      <td>-2.96828182908404514251e+00</td>\n",
       "    </tr>\n",
       "    <tr>\n",
       "      <th>4</th>\n",
       "      <td>1.0e-05</td>\n",
       "      <td>-0.250000</td>\n",
       "      <td>-2.96828182846529520234e+00</td>\n",
       "    </tr>\n",
       "    <tr>\n",
       "      <th>5</th>\n",
       "      <td>1.0e-06</td>\n",
       "      <td>-0.250000</td>\n",
       "      <td>-2.96828182845910770737e+00</td>\n",
       "    </tr>\n",
       "    <tr>\n",
       "      <th>6</th>\n",
       "      <td>1.0e-07</td>\n",
       "      <td>-0.250000</td>\n",
       "      <td>-2.96828182845904553488e+00</td>\n",
       "    </tr>\n",
       "    <tr>\n",
       "      <th>7</th>\n",
       "      <td>1.0e-08</td>\n",
       "      <td>-0.250000</td>\n",
       "      <td>-2.96828182845904509080e+00</td>\n",
       "    </tr>\n",
       "    <tr>\n",
       "      <th>8</th>\n",
       "      <td>1.0e-09</td>\n",
       "      <td>-0.250000</td>\n",
       "      <td>-2.96828182845904509080e+00</td>\n",
       "    </tr>\n",
       "    <tr>\n",
       "      <th>9</th>\n",
       "      <td>1.0e-10</td>\n",
       "      <td>-0.250000</td>\n",
       "      <td>-2.96828182845904509080e+00</td>\n",
       "    </tr>\n",
       "    <tr>\n",
       "      <th>10</th>\n",
       "      <td>1.0e-11</td>\n",
       "      <td>-0.250000</td>\n",
       "      <td>-2.96828182845904509080e+00</td>\n",
       "    </tr>\n",
       "    <tr>\n",
       "      <th>11</th>\n",
       "      <td>1.0e-12</td>\n",
       "      <td>-0.250000</td>\n",
       "      <td>-2.96828182845904509080e+00</td>\n",
       "    </tr>\n",
       "  </tbody>\n",
       "</table>\n",
       "</div>"
      ],
      "text/plain": [
       "          h     f'(x)                        Error\n",
       "0   1.0e-01 -0.250627  -2.96890839487508539918e+00\n",
       "1   1.0e-02 -0.250006  -2.96828807861529897494e+00\n",
       "2   1.0e-03 -0.250000  -2.96828189095906047612e+00\n",
       "3   1.0e-04 -0.250000  -2.96828182908404514251e+00\n",
       "4   1.0e-05 -0.250000  -2.96828182846529520234e+00\n",
       "5   1.0e-06 -0.250000  -2.96828182845910770737e+00\n",
       "6   1.0e-07 -0.250000  -2.96828182845904553488e+00\n",
       "7   1.0e-08 -0.250000  -2.96828182845904509080e+00\n",
       "8   1.0e-09 -0.250000  -2.96828182845904509080e+00\n",
       "9   1.0e-10 -0.250000  -2.96828182845904509080e+00\n",
       "10  1.0e-11 -0.250000  -2.96828182845904509080e+00\n",
       "11  1.0e-12 -0.250000  -2.96828182845904509080e+00"
      ]
     },
     "metadata": {},
     "output_type": "display_data"
    },
    {
     "data": {
      "image/png": "[encoded data removed]",
      "text/plain": [
       "<Figure size 432x288 with 1 Axes>"
      ]
     },
     "metadata": {
      "needs_background": "light"
     },
     "output_type": "display_data"
    }
   ],
   "source": [
    "import matplotlib.pyplot as plt\n",
    "import pandas as pd\n",
    "import numpy as np\n",
    "import math\n",
    "\n",
    "def f(x):                      # here we define our function\n",
    "        y = math.e**x\n",
    "        return y\n",
    "\n",
    "def three_point_centered(x,h):\n",
    "    y = -1/((1+x+h)*(1+x-h))\n",
    "    return y\n",
    "\n",
    "def fe(h):                      # here we define our function's error\n",
    "    y = h**2/6 + 10**-15/h\n",
    "    return y\n",
    "\n",
    "def cp2():\n",
    "    step_sizes = [10**-i for i in range(1,13)]\n",
    "    actual = math.e**1\n",
    "    estimate = [three_point_centered(1,h) for h in step_sizes]\n",
    "    error = [\"{:.20e}\".format(est - actual) for est in estimate]\n",
    "    step_sizes_e = [\"{:.1e}\".format(10**-i) for i in range(1,13)]\n",
    "    table = pd.DataFrame(step_sizes_e, columns= [\"h\"])\n",
    "    table['f\\'(x)'] = estimate\n",
    "    table['Error'] = error\n",
    "\n",
    "    x_range = np.arange(0.000001, 0.00006, 0.00000005)\n",
    "    y_vals = [fe(h) for h in x_range]\n",
    "    plt.plot(x_range,y_vals)\n",
    "    plt.plot(1.422E-5, 1.04E-10, marker=\"o\", markersize=5, markerfacecolor=\"green\", label = 'Optimal h size'); plt.text(1.022E-5, 1.54E-10, '1.422E-5, 1.04E-10')\n",
    "    plt.xlabel(\"h\"); plt.ylabel(\"error\") ; plt.title(\" Step size vs. Error\"); plt.legend()\n",
    "    plt.grid()\n",
    "\n",
    "    display(table)\n",
    "\n",
    "cp2()\n"
   ]
  },
  {
   "cell_type": "code",
   "execution_count": null,
   "metadata": {},
   "outputs": [],
   "source": []
  }
 ],
 "metadata": {
  "interpreter": {
   "hash": "b3ba2566441a7c06988d0923437866b63cedc61552a5af99d1f4fb67d367b25f"
  },
  "kernelspec": {
   "display_name": "Python 3.9.7 ('base')",
   "language": "python",
   "name": "python3"
  },
  "language_info": {
   "name": "python",
   "version": "3.9.7"
  },
  "orig_nbformat": 4
 },
 "nbformat": 4,
 "nbformat_minor": 2
}
