{
 "cells": [
  {
   "cell_type": "markdown",
   "metadata": {},
   "source": [
    "\n",
    "### Pedro Arrizon "
   ]
  },
  {
   "cell_type": "markdown",
   "metadata": {},
   "source": [
    "## LU factorization "
   ]
  },
  {
   "cell_type": "markdown",
   "metadata": {},
   "source": [
    "lets say our Matrix ($A$) is defined as shown:\n",
    "\n",
    "\n",
    "\n",
    "$ A = \\begin{bmatrix}\n",
    "1 & 2 & -1\\\\\n",
    "2 & 1 & -2 \\\\\n",
    "-3 & 1 & 1\n",
    "\\end{bmatrix}$\n",
    "\n"
   ]
  },
  {
   "cell_type": "markdown",
   "metadata": {},
   "source": [
    "Our goal with LU factorization is to represent matrix $A$ by two other matrixes $L\\& U$. The benefit of factorization is that we are able to have a matrix representation of the operations we do to matrix $A$.\n",
    "\n"
   ]
  },
  {
   "cell_type": "markdown",
   "metadata": {},
   "source": [
    "### Upper Triangular Matrix $U$\n",
    "\n",
    "We use Gaussian Elimination of matrix $A$ to reduce it into an **Upper triangular** matrix as shown below. \n",
    "\n",
    "- We would define $U$ as the upper matrix:\n",
    "\n",
    "$ U = \\begin{bmatrix}\n",
    "1 & 2 & -1\\\\\n",
    "0 & -3 & 0 \\\\\n",
    "0 & 0 & -2\n",
    "\\end{bmatrix}$\n",
    "\n",
    "| We can also say a matrix is **Upper triangular** if it's entries satisfy **($u_{ij} = 0 \\ for \\ i>j$.)**\n"
   ]
  },
  {
   "cell_type": "markdown",
   "metadata": {},
   "source": [
    "### Lower Triangular Matrix $L$\n",
    "\n",
    "While we are doing matrix operations on matrix $A$ to try and get it into the upper triangular form $U$ our matrix $L$ is formed. The Lower Triangular Matrix $L$ stores the matrix calculations it takes to get matrix $A$ into the upper triangular form $U$.\n",
    "\n",
    "- We would define $L$ as a lower triangular matrix: \n",
    "\n",
    "$ L = \\begin{bmatrix}\n",
    "1 & 0 & 0\\\\\n",
    "2 & 1 & 0 \\\\\n",
    "-3 & -\\frac{7}{3} & 1\n",
    "\\end{bmatrix}$\n",
    "\n",
    "| A matrix can be defined as lower triangular if its entries satisfy **($l_{ij} = 0 \\ for \\ i>j$.)**\n",
    "\n"
   ]
  },
  {
   "cell_type": "markdown",
   "metadata": {},
   "source": [
    "#### Therefore $LU = A$"
   ]
  },
  {
   "cell_type": "markdown",
   "metadata": {},
   "source": [
    "Once we know $L$ and $U$ the problem $Ax=b$ becomes easier to solve by using **two step back substitution**\n",
    "\n",
    "1. Solve $Lc = b$, for c\n",
    "2. Solve $Ux = c$, for x"
   ]
  },
  {
   "cell_type": "markdown",
   "metadata": {},
   "source": [
    "## Complexity and time"
   ]
  },
  {
   "cell_type": "markdown",
   "metadata": {},
   "source": [
    "If we wanted to solve for multiple $b's$ for our system $Ax$ how would we know how many operations or how long it would take?"
   ]
  },
  {
   "cell_type": "markdown",
   "metadata": {},
   "source": [
    "For all $b$ in $b_k$:\n",
    "- Classical Gaussian elimination approximately $ \\frac{2kn^3}{3}$ operations.\n",
    "- Using LU approximately $ \\frac{2n^3}{3} + 3kn^2$ operations."
   ]
  },
  {
   "cell_type": "code",
   "execution_count": 4,
   "metadata": {},
   "outputs": [
    {
     "name": "stdout",
     "output_type": "stream",
     "text": [
      "A:\n",
      "array([[ 7,  3, -1,  2],\n",
      "       [ 3,  8,  1, -4],\n",
      "       [-1,  1,  4, -1],\n",
      "       [ 2, -4, -1,  6]])\n",
      "P:\n",
      "array([[1., 0., 0., 0.],\n",
      "       [0., 1., 0., 0.],\n",
      "       [0., 0., 1., 0.],\n",
      "       [0., 0., 0., 1.]])\n",
      "L:\n",
      "array([[ 1.        ,  0.        ,  0.        ,  0.        ],\n",
      "       [ 0.42857143,  1.        ,  0.        ,  0.        ],\n",
      "       [-0.14285714,  0.21276596,  1.        ,  0.        ],\n",
      "       [ 0.28571429, -0.72340426,  0.08982036,  1.        ]])\n",
      "U:\n",
      "array([[ 7.        ,  3.        , -1.        ,  2.        ],\n",
      "       [ 0.        ,  6.71428571,  1.42857143, -4.85714286],\n",
      "       [ 0.        ,  0.        ,  3.55319149,  0.31914894],\n",
      "       [ 0.        ,  0.        ,  0.        ,  1.88622754]])\n"
     ]
    },
    {
     "name": "stderr",
     "output_type": "stream",
     "text": [
      "C:\\Users\\arriz\\AppData\\Local\\Temp/ipykernel_20588/2061367040.py:5: DeprecationWarning: scipy.array is deprecated and will be removed in SciPy 2.0.0, use numpy.array instead\n",
      "  A = scipy.array([ [7, 3, -1, 2], [3, 8, 1, -4], [-1, 1, 4, -1], [2, -4, -1, 6] ])\n"
     ]
    }
   ],
   "source": [
    "import pprint\n",
    "import numpy as np\n",
    "import scipy.linalg   \n",
    "\n",
    "A = np.array([ [7, 3, -1, 2], [3, 8, 1, -4], [-1, 1, 4, -1], [2, -4, -1, 6] ])\n",
    "P, L, U = scipy.linalg.lu(A)\n",
    "\n",
    "print (\"A:\")\n",
    "pprint.pprint(A)\n",
    "\n",
    "print (\"P:\")\n",
    "pprint.pprint(P)  #this is permutation matrix which just tracks the row switches done\n",
    "\n",
    "print (\"L:\")\n",
    "pprint.pprint(L)\n",
    "\n",
    "print (\"U:\")\n",
    "pprint.pprint(U)"
   ]
  },
  {
   "cell_type": "code",
   "execution_count": null,
   "metadata": {},
   "outputs": [],
   "source": []
  }
 ],
 "metadata": {
  "interpreter": {
   "hash": "b3ba2566441a7c06988d0923437866b63cedc61552a5af99d1f4fb67d367b25f"
  },
  "kernelspec": {
   "display_name": "Python 3.9.7 ('base')",
   "language": "python",
   "name": "python3"
  },
  "language_info": {
   "codemirror_mode": {
    "name": "ipython",
    "version": 3
   },
   "file_extension": ".py",
   "mimetype": "text/x-python",
   "name": "python",
   "nbconvert_exporter": "python",
   "pygments_lexer": "ipython3",
   "version": "3.9.7"
  },
  "orig_nbformat": 4
 },
 "nbformat": 4,
 "nbformat_minor": 2
}
