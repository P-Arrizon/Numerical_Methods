{
 "cells": [
  {
   "cell_type": "markdown",
   "metadata": {},
   "source": [
    "# Horner's Method"
   ]
  },
  {
   "cell_type": "markdown",
   "metadata": {},
   "source": [
    "#### Pedro Arrizon\n",
    "\n",
    "Horner's Method allows us to evaluate a Polynomial with the least amount of steps. This is important when factoring into complex computer computations. \n"
   ]
  },
  {
   "cell_type": "markdown",
   "metadata": {},
   "source": [
    "### How does it work?"
   ]
  },
  {
   "cell_type": "markdown",
   "metadata": {},
   "source": [
    "Let's say we have a function $P(x)$ :\n",
    "\n",
    "$P(x) = 2x^4 + 3x^3 - 3x^2 + 5x -1 $"
   ]
  },
  {
   "cell_type": "markdown",
   "metadata": {},
   "source": [
    "Let's say we want to evaluate $P(x)$ at $x = 2$, Horner's Method allows us to evaluate $P(x)$ optimally by doing the following:"
   ]
  },
  {
   "cell_type": "markdown",
   "metadata": {},
   "source": [
    "1. Rewriting $P(x)$ such that it can be evaluated from the inside out, (or just factoring x out as much as possible)\n"
   ]
  },
  {
   "cell_type": "markdown",
   "metadata": {},
   "source": [
    "$P(x) = -1 + x(5 - 3x + 3x^2 + 2x^3) $"
   ]
  },
  {
   "cell_type": "markdown",
   "metadata": {},
   "source": [
    "$P(x) = -1 + x(5 + x(-3 + 3x + 2x^2) $"
   ]
  },
  {
   "cell_type": "markdown",
   "metadata": {},
   "source": [
    "$P(x) = -1 + x(5 + x(-3 + x(3 + 2x) $"
   ]
  },
  {
   "cell_type": "markdown",
   "metadata": {},
   "source": [
    "$P(x) = -1 + x(5 + x(-3 + x(3 + x*2) $"
   ]
  },
  {
   "cell_type": "markdown",
   "metadata": {},
   "source": [
    "2. We then evaluate from **the inside out** \n",
    "\n"
   ]
  },
  {
   "cell_type": "markdown",
   "metadata": {},
   "source": [
    "\n",
    "\n",
    "**In general out polynomial of degree *d* can be evaluated in *d* multiplications and *d* additions**"
   ]
  }
 ],
 "metadata": {
  "language_info": {
   "name": "python"
  },
  "orig_nbformat": 4
 },
 "nbformat": 4,
 "nbformat_minor": 2
}
